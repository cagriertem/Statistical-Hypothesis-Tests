{
 "cells": [
  {
   "cell_type": "markdown",
   "id": "1dbadbee",
   "metadata": {},
   "source": [
    "# Prediction Based On Statistical Hypothesis Tests"
   ]
  },
  {
   "cell_type": "markdown",
   "id": "8b459362",
   "metadata": {},
   "source": [
    "In this project, we will try to use statistical hypothesis tests on \"Costumer Personality Analysis\" dataset.\n",
    "\n",
    "Firstly, we will preprocess our data, combine some columns and investigate the data in general. \n",
    "\n",
    "The second part will be about using statistical hypothesis tests such as \"Normality Test\" to see whether the data have normal distribution or not, and nonparametric statistical hypothesis tests such as Spearman's Rank Correlation Test. That is to say, the second part will mainly be about feature selection based on statistical tests. \n",
    "\n",
    "Lastly, we will use the features selected by statistical hypothesis tests to predict the outcome (dependent) data. We will compare different prediction algorithms by using Mean Absolute Error, Mean Squared Error and R2 scores.   "
   ]
  },
  {
   "cell_type": "code",
   "execution_count": 2,
   "id": "598b5b6a",
   "metadata": {},
   "outputs": [],
   "source": [
    "import pandas as pd\n",
    "import seaborn as sns\n",
    "import matplotlib.pyplot as plt\n",
    "import plotly.express as px\n",
    "import numpy as np"
   ]
  },
  {
   "cell_type": "code",
   "execution_count": 3,
   "id": "7298a076",
   "metadata": {},
   "outputs": [
    {
     "data": {
      "text/html": [
       "<div>\n",
       "<style scoped>\n",
       "    .dataframe tbody tr th:only-of-type {\n",
       "        vertical-align: middle;\n",
       "    }\n",
       "\n",
       "    .dataframe tbody tr th {\n",
       "        vertical-align: top;\n",
       "    }\n",
       "\n",
       "    .dataframe thead th {\n",
       "        text-align: right;\n",
       "    }\n",
       "</style>\n",
       "<table border=\"1\" class=\"dataframe\">\n",
       "  <thead>\n",
       "    <tr style=\"text-align: right;\">\n",
       "      <th></th>\n",
       "      <th>ID</th>\n",
       "      <th>Year_Birth</th>\n",
       "      <th>Education</th>\n",
       "      <th>Marital_Status</th>\n",
       "      <th>Income</th>\n",
       "      <th>Kidhome</th>\n",
       "      <th>Teenhome</th>\n",
       "      <th>Dt_Customer</th>\n",
       "      <th>Recency</th>\n",
       "      <th>MntWines</th>\n",
       "      <th>...</th>\n",
       "      <th>NumWebVisitsMonth</th>\n",
       "      <th>AcceptedCmp3</th>\n",
       "      <th>AcceptedCmp4</th>\n",
       "      <th>AcceptedCmp5</th>\n",
       "      <th>AcceptedCmp1</th>\n",
       "      <th>AcceptedCmp2</th>\n",
       "      <th>Complain</th>\n",
       "      <th>Z_CostContact</th>\n",
       "      <th>Z_Revenue</th>\n",
       "      <th>Response</th>\n",
       "    </tr>\n",
       "  </thead>\n",
       "  <tbody>\n",
       "    <tr>\n",
       "      <th>0</th>\n",
       "      <td>5524</td>\n",
       "      <td>1957</td>\n",
       "      <td>Graduation</td>\n",
       "      <td>Single</td>\n",
       "      <td>58138.0</td>\n",
       "      <td>0</td>\n",
       "      <td>0</td>\n",
       "      <td>04-09-2012</td>\n",
       "      <td>58</td>\n",
       "      <td>635</td>\n",
       "      <td>...</td>\n",
       "      <td>7</td>\n",
       "      <td>0</td>\n",
       "      <td>0</td>\n",
       "      <td>0</td>\n",
       "      <td>0</td>\n",
       "      <td>0</td>\n",
       "      <td>0</td>\n",
       "      <td>3</td>\n",
       "      <td>11</td>\n",
       "      <td>1</td>\n",
       "    </tr>\n",
       "    <tr>\n",
       "      <th>1</th>\n",
       "      <td>2174</td>\n",
       "      <td>1954</td>\n",
       "      <td>Graduation</td>\n",
       "      <td>Single</td>\n",
       "      <td>46344.0</td>\n",
       "      <td>1</td>\n",
       "      <td>1</td>\n",
       "      <td>08-03-2014</td>\n",
       "      <td>38</td>\n",
       "      <td>11</td>\n",
       "      <td>...</td>\n",
       "      <td>5</td>\n",
       "      <td>0</td>\n",
       "      <td>0</td>\n",
       "      <td>0</td>\n",
       "      <td>0</td>\n",
       "      <td>0</td>\n",
       "      <td>0</td>\n",
       "      <td>3</td>\n",
       "      <td>11</td>\n",
       "      <td>0</td>\n",
       "    </tr>\n",
       "    <tr>\n",
       "      <th>2</th>\n",
       "      <td>4141</td>\n",
       "      <td>1965</td>\n",
       "      <td>Graduation</td>\n",
       "      <td>Together</td>\n",
       "      <td>71613.0</td>\n",
       "      <td>0</td>\n",
       "      <td>0</td>\n",
       "      <td>21-08-2013</td>\n",
       "      <td>26</td>\n",
       "      <td>426</td>\n",
       "      <td>...</td>\n",
       "      <td>4</td>\n",
       "      <td>0</td>\n",
       "      <td>0</td>\n",
       "      <td>0</td>\n",
       "      <td>0</td>\n",
       "      <td>0</td>\n",
       "      <td>0</td>\n",
       "      <td>3</td>\n",
       "      <td>11</td>\n",
       "      <td>0</td>\n",
       "    </tr>\n",
       "    <tr>\n",
       "      <th>3</th>\n",
       "      <td>6182</td>\n",
       "      <td>1984</td>\n",
       "      <td>Graduation</td>\n",
       "      <td>Together</td>\n",
       "      <td>26646.0</td>\n",
       "      <td>1</td>\n",
       "      <td>0</td>\n",
       "      <td>10-02-2014</td>\n",
       "      <td>26</td>\n",
       "      <td>11</td>\n",
       "      <td>...</td>\n",
       "      <td>6</td>\n",
       "      <td>0</td>\n",
       "      <td>0</td>\n",
       "      <td>0</td>\n",
       "      <td>0</td>\n",
       "      <td>0</td>\n",
       "      <td>0</td>\n",
       "      <td>3</td>\n",
       "      <td>11</td>\n",
       "      <td>0</td>\n",
       "    </tr>\n",
       "    <tr>\n",
       "      <th>4</th>\n",
       "      <td>5324</td>\n",
       "      <td>1981</td>\n",
       "      <td>PhD</td>\n",
       "      <td>Married</td>\n",
       "      <td>58293.0</td>\n",
       "      <td>1</td>\n",
       "      <td>0</td>\n",
       "      <td>19-01-2014</td>\n",
       "      <td>94</td>\n",
       "      <td>173</td>\n",
       "      <td>...</td>\n",
       "      <td>5</td>\n",
       "      <td>0</td>\n",
       "      <td>0</td>\n",
       "      <td>0</td>\n",
       "      <td>0</td>\n",
       "      <td>0</td>\n",
       "      <td>0</td>\n",
       "      <td>3</td>\n",
       "      <td>11</td>\n",
       "      <td>0</td>\n",
       "    </tr>\n",
       "    <tr>\n",
       "      <th>...</th>\n",
       "      <td>...</td>\n",
       "      <td>...</td>\n",
       "      <td>...</td>\n",
       "      <td>...</td>\n",
       "      <td>...</td>\n",
       "      <td>...</td>\n",
       "      <td>...</td>\n",
       "      <td>...</td>\n",
       "      <td>...</td>\n",
       "      <td>...</td>\n",
       "      <td>...</td>\n",
       "      <td>...</td>\n",
       "      <td>...</td>\n",
       "      <td>...</td>\n",
       "      <td>...</td>\n",
       "      <td>...</td>\n",
       "      <td>...</td>\n",
       "      <td>...</td>\n",
       "      <td>...</td>\n",
       "      <td>...</td>\n",
       "      <td>...</td>\n",
       "    </tr>\n",
       "    <tr>\n",
       "      <th>2235</th>\n",
       "      <td>10870</td>\n",
       "      <td>1967</td>\n",
       "      <td>Graduation</td>\n",
       "      <td>Married</td>\n",
       "      <td>61223.0</td>\n",
       "      <td>0</td>\n",
       "      <td>1</td>\n",
       "      <td>13-06-2013</td>\n",
       "      <td>46</td>\n",
       "      <td>709</td>\n",
       "      <td>...</td>\n",
       "      <td>5</td>\n",
       "      <td>0</td>\n",
       "      <td>0</td>\n",
       "      <td>0</td>\n",
       "      <td>0</td>\n",
       "      <td>0</td>\n",
       "      <td>0</td>\n",
       "      <td>3</td>\n",
       "      <td>11</td>\n",
       "      <td>0</td>\n",
       "    </tr>\n",
       "    <tr>\n",
       "      <th>2236</th>\n",
       "      <td>4001</td>\n",
       "      <td>1946</td>\n",
       "      <td>PhD</td>\n",
       "      <td>Together</td>\n",
       "      <td>64014.0</td>\n",
       "      <td>2</td>\n",
       "      <td>1</td>\n",
       "      <td>10-06-2014</td>\n",
       "      <td>56</td>\n",
       "      <td>406</td>\n",
       "      <td>...</td>\n",
       "      <td>7</td>\n",
       "      <td>0</td>\n",
       "      <td>0</td>\n",
       "      <td>0</td>\n",
       "      <td>1</td>\n",
       "      <td>0</td>\n",
       "      <td>0</td>\n",
       "      <td>3</td>\n",
       "      <td>11</td>\n",
       "      <td>0</td>\n",
       "    </tr>\n",
       "    <tr>\n",
       "      <th>2237</th>\n",
       "      <td>7270</td>\n",
       "      <td>1981</td>\n",
       "      <td>Graduation</td>\n",
       "      <td>Divorced</td>\n",
       "      <td>56981.0</td>\n",
       "      <td>0</td>\n",
       "      <td>0</td>\n",
       "      <td>25-01-2014</td>\n",
       "      <td>91</td>\n",
       "      <td>908</td>\n",
       "      <td>...</td>\n",
       "      <td>6</td>\n",
       "      <td>0</td>\n",
       "      <td>1</td>\n",
       "      <td>0</td>\n",
       "      <td>0</td>\n",
       "      <td>0</td>\n",
       "      <td>0</td>\n",
       "      <td>3</td>\n",
       "      <td>11</td>\n",
       "      <td>0</td>\n",
       "    </tr>\n",
       "    <tr>\n",
       "      <th>2238</th>\n",
       "      <td>8235</td>\n",
       "      <td>1956</td>\n",
       "      <td>Master</td>\n",
       "      <td>Together</td>\n",
       "      <td>69245.0</td>\n",
       "      <td>0</td>\n",
       "      <td>1</td>\n",
       "      <td>24-01-2014</td>\n",
       "      <td>8</td>\n",
       "      <td>428</td>\n",
       "      <td>...</td>\n",
       "      <td>3</td>\n",
       "      <td>0</td>\n",
       "      <td>0</td>\n",
       "      <td>0</td>\n",
       "      <td>0</td>\n",
       "      <td>0</td>\n",
       "      <td>0</td>\n",
       "      <td>3</td>\n",
       "      <td>11</td>\n",
       "      <td>0</td>\n",
       "    </tr>\n",
       "    <tr>\n",
       "      <th>2239</th>\n",
       "      <td>9405</td>\n",
       "      <td>1954</td>\n",
       "      <td>PhD</td>\n",
       "      <td>Married</td>\n",
       "      <td>52869.0</td>\n",
       "      <td>1</td>\n",
       "      <td>1</td>\n",
       "      <td>15-10-2012</td>\n",
       "      <td>40</td>\n",
       "      <td>84</td>\n",
       "      <td>...</td>\n",
       "      <td>7</td>\n",
       "      <td>0</td>\n",
       "      <td>0</td>\n",
       "      <td>0</td>\n",
       "      <td>0</td>\n",
       "      <td>0</td>\n",
       "      <td>0</td>\n",
       "      <td>3</td>\n",
       "      <td>11</td>\n",
       "      <td>1</td>\n",
       "    </tr>\n",
       "  </tbody>\n",
       "</table>\n",
       "<p>2240 rows × 29 columns</p>\n",
       "</div>"
      ],
      "text/plain": [
       "         ID  Year_Birth   Education Marital_Status   Income  Kidhome  \\\n",
       "0      5524        1957  Graduation         Single  58138.0        0   \n",
       "1      2174        1954  Graduation         Single  46344.0        1   \n",
       "2      4141        1965  Graduation       Together  71613.0        0   \n",
       "3      6182        1984  Graduation       Together  26646.0        1   \n",
       "4      5324        1981         PhD        Married  58293.0        1   \n",
       "...     ...         ...         ...            ...      ...      ...   \n",
       "2235  10870        1967  Graduation        Married  61223.0        0   \n",
       "2236   4001        1946         PhD       Together  64014.0        2   \n",
       "2237   7270        1981  Graduation       Divorced  56981.0        0   \n",
       "2238   8235        1956      Master       Together  69245.0        0   \n",
       "2239   9405        1954         PhD        Married  52869.0        1   \n",
       "\n",
       "      Teenhome Dt_Customer  Recency  MntWines  ...  NumWebVisitsMonth  \\\n",
       "0            0  04-09-2012       58       635  ...                  7   \n",
       "1            1  08-03-2014       38        11  ...                  5   \n",
       "2            0  21-08-2013       26       426  ...                  4   \n",
       "3            0  10-02-2014       26        11  ...                  6   \n",
       "4            0  19-01-2014       94       173  ...                  5   \n",
       "...        ...         ...      ...       ...  ...                ...   \n",
       "2235         1  13-06-2013       46       709  ...                  5   \n",
       "2236         1  10-06-2014       56       406  ...                  7   \n",
       "2237         0  25-01-2014       91       908  ...                  6   \n",
       "2238         1  24-01-2014        8       428  ...                  3   \n",
       "2239         1  15-10-2012       40        84  ...                  7   \n",
       "\n",
       "      AcceptedCmp3  AcceptedCmp4  AcceptedCmp5  AcceptedCmp1  AcceptedCmp2  \\\n",
       "0                0             0             0             0             0   \n",
       "1                0             0             0             0             0   \n",
       "2                0             0             0             0             0   \n",
       "3                0             0             0             0             0   \n",
       "4                0             0             0             0             0   \n",
       "...            ...           ...           ...           ...           ...   \n",
       "2235             0             0             0             0             0   \n",
       "2236             0             0             0             1             0   \n",
       "2237             0             1             0             0             0   \n",
       "2238             0             0             0             0             0   \n",
       "2239             0             0             0             0             0   \n",
       "\n",
       "      Complain  Z_CostContact  Z_Revenue  Response  \n",
       "0            0              3         11         1  \n",
       "1            0              3         11         0  \n",
       "2            0              3         11         0  \n",
       "3            0              3         11         0  \n",
       "4            0              3         11         0  \n",
       "...        ...            ...        ...       ...  \n",
       "2235         0              3         11         0  \n",
       "2236         0              3         11         0  \n",
       "2237         0              3         11         0  \n",
       "2238         0              3         11         0  \n",
       "2239         0              3         11         1  \n",
       "\n",
       "[2240 rows x 29 columns]"
      ]
     },
     "execution_count": 3,
     "metadata": {},
     "output_type": "execute_result"
    }
   ],
   "source": [
    "df = pd.read_csv(\"marketing_campaign.csv\", sep=\"\\t\")\n",
    "df"
   ]
  },
  {
   "cell_type": "markdown",
   "id": "3a472336",
   "metadata": {},
   "source": [
    "## Preparing The Data"
   ]
  },
  {
   "cell_type": "markdown",
   "id": "8187bc67",
   "metadata": {},
   "source": [
    "We will calculate the total time spent on products and named it \"TotalAmountSpent\". In addition to this we will create two more categories named \"Recency_Score\" and \"Age\". "
   ]
  },
  {
   "cell_type": "code",
   "execution_count": 4,
   "id": "82d4baaf",
   "metadata": {},
   "outputs": [],
   "source": [
    "df[\"TotalAmountSpent\"] = df[\"MntFishProducts\"] + df[\"MntFruits\"] + df[\"MntGoldProds\"] + df[\"MntSweetProducts\"] + df[\"MntMeatProducts\"] + df[\"MntWines\"]\n"
   ]
  },
  {
   "cell_type": "code",
   "execution_count": 36,
   "id": "8fa2a654",
   "metadata": {},
   "outputs": [
    {
     "data": {
      "text/plain": [
       "count    2240.000000\n",
       "mean      605.798214\n",
       "std       602.249288\n",
       "min         5.000000\n",
       "25%        68.750000\n",
       "50%       396.000000\n",
       "75%      1045.500000\n",
       "max      2525.000000\n",
       "Name: TotalAmountSpent, dtype: float64"
      ]
     },
     "execution_count": 36,
     "metadata": {},
     "output_type": "execute_result"
    }
   ],
   "source": [
    "df[\"TotalAmountSpent\"].describe()"
   ]
  },
  {
   "cell_type": "code",
   "execution_count": 6,
   "id": "756f0687",
   "metadata": {},
   "outputs": [
    {
     "data": {
      "text/plain": [
       "count    2240.000000\n",
       "mean       50.890625\n",
       "std        28.962453\n",
       "min         1.000000\n",
       "25%        26.000000\n",
       "50%        51.000000\n",
       "75%        76.000000\n",
       "max       100.000000\n",
       "Name: Recency_Score, dtype: float64"
      ]
     },
     "execution_count": 6,
     "metadata": {},
     "output_type": "execute_result"
    }
   ],
   "source": [
    "df[\"Recency_Score\"] = df[\"Recency\"].apply(lambda x : 100 - x)\n",
    "df[\"Recency_Score\"].describe()"
   ]
  },
  {
   "cell_type": "code",
   "execution_count": 7,
   "id": "cb748d9a",
   "metadata": {},
   "outputs": [
    {
     "data": {
      "text/plain": [
       "count    2240.000000\n",
       "mean       54.194196\n",
       "std        11.984069\n",
       "min        27.000000\n",
       "25%        46.000000\n",
       "50%        53.000000\n",
       "75%        64.000000\n",
       "max       130.000000\n",
       "Name: Age, dtype: float64"
      ]
     },
     "execution_count": 7,
     "metadata": {},
     "output_type": "execute_result"
    }
   ],
   "source": [
    "from datetime import datetime\n",
    "df[\"Age\"] = df[\"Year_Birth\"].apply(lambda x : datetime.now().year - x)\n",
    "df[\"Age\"].describe()"
   ]
  },
  {
   "cell_type": "code",
   "execution_count": 8,
   "id": "9d937517",
   "metadata": {},
   "outputs": [
    {
     "data": {
      "text/plain": [
       "Graduate         1127\n",
       "Postgraduate     1059\n",
       "Undergraduate      54\n",
       "Name: Education, dtype: int64"
      ]
     },
     "execution_count": 8,
     "metadata": {},
     "output_type": "execute_result"
    }
   ],
   "source": [
    "df[\"Education\"] = df[\"Education\"].replace({\"Graduation\":\"Graduate\", \"PhD\":\"Postgraduate\", \n",
    "                                           \"Master\":\"Postgraduate\", \"2n Cycle\":\"Postgraduate\", \n",
    "                                           \"Basic\":\"Undergraduate\"})\n",
    "df[\"Education\"].value_counts()"
   ]
  },
  {
   "cell_type": "code",
   "execution_count": 9,
   "id": "2228a7cf",
   "metadata": {},
   "outputs": [
    {
     "data": {
      "text/plain": [
       "1    1127\n",
       "2    1059\n",
       "0      54\n",
       "Name: Education, dtype: int64"
      ]
     },
     "execution_count": 9,
     "metadata": {},
     "output_type": "execute_result"
    }
   ],
   "source": [
    "df[\"Education\"] = df[\"Education\"].replace({\"Undergraduate\": 0, \"Graduate\": 1, \"Postgraduate\": 2})\n",
    "df[\"Education\"].value_counts()"
   ]
  },
  {
   "cell_type": "code",
   "execution_count": 10,
   "id": "2b85995d",
   "metadata": {},
   "outputs": [],
   "source": [
    "df[\"Total Children\"] = df[\"Kidhome\"] + df[\"Teenhome\"]"
   ]
  },
  {
   "cell_type": "code",
   "execution_count": 11,
   "id": "98f35530",
   "metadata": {},
   "outputs": [
    {
     "data": {
      "text/plain": [
       "0       0\n",
       "1       2\n",
       "2       0\n",
       "3       1\n",
       "4       1\n",
       "       ..\n",
       "2235    1\n",
       "2236    3\n",
       "2237    0\n",
       "2238    1\n",
       "2239    2\n",
       "Name: Total Children, Length: 2240, dtype: int64"
      ]
     },
     "execution_count": 11,
     "metadata": {},
     "output_type": "execute_result"
    }
   ],
   "source": [
    "df[\"Total Children\"]"
   ]
  },
  {
   "cell_type": "code",
   "execution_count": 12,
   "id": "7114f632",
   "metadata": {},
   "outputs": [
    {
     "data": {
      "text/plain": [
       "array(['Single', 'Together', 'Married', 'Divorced', 'Widow', 'Alone',\n",
       "       'Absurd', 'YOLO'], dtype=object)"
      ]
     },
     "execution_count": 12,
     "metadata": {},
     "output_type": "execute_result"
    }
   ],
   "source": [
    "df[\"Marital_Status\"].unique()"
   ]
  },
  {
   "cell_type": "code",
   "execution_count": 13,
   "id": "6edbc1c8",
   "metadata": {},
   "outputs": [],
   "source": [
    "df[\"Marital_Status\"] = df[\"Marital_Status\"].replace({\"Single\": 0, \"Together\": 1, \"Married\": 2, \n",
    "                                                     \"Divorced\": 3, \"Widow\": 4, \"Alone\": 5, \"Absurd\": 6, \"YOLO\": 7})"
   ]
  },
  {
   "cell_type": "code",
   "execution_count": 14,
   "id": "f877adf3",
   "metadata": {},
   "outputs": [
    {
     "data": {
      "text/plain": [
       "0       0\n",
       "1       0\n",
       "2       1\n",
       "3       1\n",
       "4       2\n",
       "       ..\n",
       "2235    2\n",
       "2236    1\n",
       "2237    3\n",
       "2238    1\n",
       "2239    2\n",
       "Name: Marital_Status, Length: 2240, dtype: int64"
      ]
     },
     "execution_count": 14,
     "metadata": {},
     "output_type": "execute_result"
    }
   ],
   "source": [
    "df[\"Marital_Status\"]"
   ]
  },
  {
   "cell_type": "markdown",
   "id": "a30b99ba",
   "metadata": {},
   "source": [
    "Let's take a quick look at some of the categories."
   ]
  },
  {
   "cell_type": "code",
   "execution_count": 15,
   "id": "6bca8628",
   "metadata": {},
   "outputs": [
    {
     "data": {
      "image/png": "[encoded data removed]",
      "text/plain": [
       "<Figure size 640x480 with 1 Axes>"
      ]
     },
     "metadata": {},
     "output_type": "display_data"
    }
   ],
   "source": [
    "sns.histplot(data=df, x=\"Income\", binwidth=1e4)\n",
    "plt.title(\"Distribution of Customer's Income\");"
   ]
  },
  {
   "cell_type": "code",
   "execution_count": 16,
   "id": "eb80a844",
   "metadata": {},
   "outputs": [
    {
     "data": {
      "image/png": "[encoded data removed]",
      "text/plain": [
       "<Figure size 640x480 with 1 Axes>"
      ]
     },
     "metadata": {},
     "output_type": "display_data"
    }
   ],
   "source": [
    "sns.histplot(data=df, x=\"Age\", bins = list(range(10, 150, 10)))\n",
    "plt.title(\"Distribution of Customer's Age\")\n",
    "plt.savefig(\"Age.png\");"
   ]
  },
  {
   "cell_type": "code",
   "execution_count": 17,
   "id": "b8296f62",
   "metadata": {},
   "outputs": [
    {
     "data": {
      "image/png": "[encoded data removed]",
      "text/plain": [
       "<Figure size 640x480 with 1 Axes>"
      ]
     },
     "metadata": {},
     "output_type": "display_data"
    }
   ],
   "source": [
    "sns.histplot(data=df, x=\"TotalAmountSpent\", bins = list(range(10, 150, 10)))\n",
    "plt.title(\"Distribution of Customer's Total Time Spent On Products\")\n",
    "plt.savefig(\"TotalAmountSpent.png\");"
   ]
  },
  {
   "cell_type": "code",
   "execution_count": 18,
   "id": "ff966c22",
   "metadata": {},
   "outputs": [
    {
     "data": {
      "image/png": "[encoded data removed]",
      "text/plain": [
       "<Figure size 300x300 with 1 Axes>"
      ]
     },
     "metadata": {},
     "output_type": "display_data"
    }
   ],
   "source": [
    "df[\"Education\"].value_counts(normalize=True).plot.bar(figsize=(3, 3))\n",
    "plt.xticks(rotation=45)\n",
    "plt.title(\"Frequency of Customer's Education [proportion]\");"
   ]
  },
  {
   "cell_type": "code",
   "execution_count": 19,
   "id": "909ab3f8",
   "metadata": {},
   "outputs": [
    {
     "data": {
      "image/png": "[encoded data removed]",
      "text/plain": [
       "<Figure size 640x480 with 1 Axes>"
      ]
     },
     "metadata": {},
     "output_type": "display_data"
    }
   ],
   "source": [
    "sns.scatterplot(data=df, x=\"Age\", y=\"TotalAmountSpent\")\n",
    "plt.title(\"Relationship between Age and Total Amount Spent\");"
   ]
  },
  {
   "cell_type": "code",
   "execution_count": 20,
   "id": "bab8d8b0",
   "metadata": {},
   "outputs": [
    {
     "data": {
      "image/png": "[encoded data removed]",
      "text/plain": [
       "<Figure size 640x480 with 1 Axes>"
      ]
     },
     "metadata": {},
     "output_type": "display_data"
    }
   ],
   "source": [
    "sns.scatterplot(data=df, x=\"Income\", y=\"TotalAmountSpent\")\n",
    "plt.title(\"Relationship between Age and Total Amount Spent\");"
   ]
  },
  {
   "cell_type": "markdown",
   "id": "a84fc40c",
   "metadata": {},
   "source": [
    "## Statistical Hypothesis Tests\n",
    "\n",
    "#### Feature Selection"
   ]
  },
  {
   "cell_type": "markdown",
   "id": "10bd48d0",
   "metadata": {},
   "source": [
    "We need to test whether our data have a normal distribution or not. If it does so, then we will apply the parametric statistical hypothesis tests, and if not, we will continue with nonparametric statistical hypothesis tests."
   ]
  },
  {
   "cell_type": "code",
   "execution_count": 21,
   "id": "1d0ba214",
   "metadata": {},
   "outputs": [],
   "source": [
    "data_num1 = df[\"Age\"]\n",
    "data_num2 = df[\"Income\"]\n",
    "data_num3 = df[\"Total Children\"]\n",
    "data_num4 = df[\"Recency_Score\"]\n",
    "data_cat1 = df[\"Marital_Status\"]\n",
    "data_cat2 = df[\"Education\"]\n",
    "outcome_data = df[\"TotalAmountSpent\"]"
   ]
  },
  {
   "cell_type": "code",
   "execution_count": 22,
   "id": "c4ad7b4b",
   "metadata": {},
   "outputs": [
    {
     "name": "stdout",
     "output_type": "stream",
     "text": [
      "stat=71.062, p=0.000\n",
      "Probably not Gaussian\n"
     ]
    }
   ],
   "source": [
    "from scipy.stats import normaltest\n",
    "\n",
    "stat, p = normaltest(data_num1)\n",
    "print('stat=%.3f, p=%.3f' % (stat, p))\n",
    "if p > 0.05:\n",
    "    print('Probably Gaussian')\n",
    "else:\n",
    "    print('Probably not Gaussian')"
   ]
  },
  {
   "cell_type": "code",
   "execution_count": 23,
   "id": "492f0782",
   "metadata": {},
   "outputs": [
    {
     "name": "stdout",
     "output_type": "stream",
     "text": [
      "data 1 :\n",
      "stat=71.062, p=0.000\n",
      "Probably not Gaussian\n",
      " \n",
      "data 2 :\n",
      "stat=nan, p=nan\n",
      "Probably not Gaussian\n",
      " \n",
      "data 3 :\n",
      "stat=67.275, p=0.000\n",
      "Probably not Gaussian\n",
      " \n",
      "data 4 :\n",
      "stat=1847.446, p=0.000\n",
      "Probably not Gaussian\n",
      " \n",
      "data 5 :\n",
      "stat=59.037, p=0.000\n",
      "Probably not Gaussian\n",
      " \n",
      "data 6 :\n",
      "stat=681.688, p=0.000\n",
      "Probably not Gaussian\n",
      " \n",
      "data 7 :\n",
      "stat=227.711, p=0.000\n",
      "Probably not Gaussian\n",
      " \n"
     ]
    }
   ],
   "source": [
    "from scipy.stats import normaltest\n",
    "\n",
    "column_list = [data_num1, data_num2, data_num3, data_num4, data_cat1, data_cat2, outcome_data] \n",
    "def normality_test(data_list):\n",
    "    data_num = 0\n",
    "    for data in data_list:\n",
    "        data_num += 1\n",
    "        stat, p = normaltest(data)\n",
    "        print(\"data\", data_num,\":\")\n",
    "        print('stat=%.3f, p=%.3f' % (stat, p))\n",
    "        if p > 0.05:\n",
    "            print('Probably Gaussian')\n",
    "        else:\n",
    "            print('Probably not Gaussian')\n",
    "        print(\" \")\n",
    "            \n",
    "normality_test(column_list)"
   ]
  },
  {
   "cell_type": "markdown",
   "id": "a5491c17",
   "metadata": {},
   "source": [
    "As we see, our data does not meet the basic principles of \"Parametric Statistical Hypothesis Tests\", that is, it does not have the normal distribution. This means that we have to go on with the \"Nonparametric Statistical Hypothesis Tests\". By applying Spearman's Rank Correlation Test, we will see whether the \"quantitative\" data that we have is dependent on our outcome data, namely TotalAmountSpent."
   ]
  },
  {
   "cell_type": "code",
   "execution_count": 24,
   "id": "298d2104",
   "metadata": {},
   "outputs": [
    {
     "name": "stdout",
     "output_type": "stream",
     "text": [
      "comparison 1 :\n",
      "stat=0.157, p=0.000\n",
      "Probably dependent\n",
      " \n",
      "comparison 2 :\n",
      "stat=nan, p=nan\n",
      "Probably dependent\n",
      " \n",
      "comparison 3 :\n",
      "stat=-0.484, p=0.000\n",
      "Probably dependent\n",
      " \n",
      "comparison 4 :\n",
      "stat=-0.020, p=0.346\n",
      "Probably independent\n",
      " \n"
     ]
    }
   ],
   "source": [
    "from scipy.stats import spearmanr\n",
    "predictor_data = [data_num1, data_num2, data_num3, data_num4] \n",
    "outcome_datum = outcome_data\n",
    "\n",
    "def spearmanr_test(predictor_data_list, outcome_data):\n",
    "    data_num = 0\n",
    "    for data in predictor_data_list:\n",
    "        data_num += 1\n",
    "        stat, p = spearmanr(data, outcome_data)\n",
    "        print(\"comparison\", data_num, \":\")\n",
    "        print('stat=%.3f, p=%.3f' % (stat, p))\n",
    "        if p > 0.05:\n",
    "            print('Probably independent')\n",
    "        else:\n",
    "            print('Probably dependent')\n",
    "        print(\" \")\n",
    "            \n",
    "spearmanr_test(predictor_data, outcome_datum)"
   ]
  },
  {
   "cell_type": "markdown",
   "id": "9a2a5b9b",
   "metadata": {},
   "source": [
    "Let's test whether our categorical data have the same distribution with TotalAmountSpent."
   ]
  },
  {
   "cell_type": "code",
   "execution_count": 25,
   "id": "8877efa5",
   "metadata": {},
   "outputs": [
    {
     "name": "stdout",
     "output_type": "stream",
     "text": [
      "comparison 1 :\n",
      "stat=3395.613, p=0.000\n",
      "Probably different distributions\n",
      " \n",
      "comparison 2 :\n",
      "stat=3460.045, p=0.000\n",
      "Probably different distributions\n",
      " \n"
     ]
    }
   ],
   "source": [
    "# Kruskal-Wallis H Test\n",
    "from scipy.stats import kruskal\n",
    "predictor_cat_data = [data_cat1, data_cat2] \n",
    "outcome_datum = outcome_data\n",
    "\n",
    "def kruskal_test(predictor_data_list, outcome_data):\n",
    "    data_num = 0\n",
    "    for data in predictor_data_list:\n",
    "        data_num += 1\n",
    "        stat, p = kruskal(data, outcome_data)\n",
    "        print(\"comparison\", data_num, \":\")\n",
    "        print('stat=%.3f, p=%.3f' % (stat, p))\n",
    "        if p > 0.05:\n",
    "            print('Probably the same distribution')\n",
    "        else:\n",
    "            print('Probably different distributions')\n",
    "        print(\" \")\n",
    "            \n",
    "kruskal_test(predictor_cat_data, outcome_datum)"
   ]
  },
  {
   "cell_type": "markdown",
   "id": "8da69c62",
   "metadata": {},
   "source": [
    "#### Summary\n",
    "\n",
    "Recency_Score is independent from the outcome datum, namely \"TotalAmountSpent\". That is, we will not consider the column \"Recency_Score\" when we apply our prediction algorithm. In addition to this, categorical data such as Education and Marital_Status also are not related with the total time spent on products. We will not consider the columns Education and Marital_Status when we apply our prediction algorithm. "
   ]
  },
  {
   "cell_type": "markdown",
   "id": "4c590278",
   "metadata": {},
   "source": [
    "## Prediction Algorithm"
   ]
  },
  {
   "cell_type": "markdown",
   "id": "657fce70",
   "metadata": {},
   "source": [
    "As shown above only the columns Age, Income and Total Children are related with the total time spent on products. This means that we will go on with these three categories while we implement the prediction algorithm."
   ]
  },
  {
   "cell_type": "code",
   "execution_count": 63,
   "id": "98aa9f4a",
   "metadata": {},
   "outputs": [],
   "source": [
    "import pandas as pd\n",
    "import numpy as np\n",
    "import matplotlib.pyplot as plt\n",
    "import seaborn as sns\n",
    "from sklearn import model_selection\n",
    "from sklearn.linear_model import LogisticRegression\n",
    "from sklearn import datasets, linear_model, metrics\n",
    "from sklearn.model_selection import train_test_split"
   ]
  },
  {
   "cell_type": "code",
   "execution_count": 144,
   "id": "598e64fe",
   "metadata": {},
   "outputs": [],
   "source": [
    "X= df[['Income']] # this time we only take 'Income' column\n",
    "Y= df[['TotalAmountSpent']]  # the target output\n",
    "\n",
    "X_train,X_test,y_train,y_test=train_test_split(X,Y,test_size=0.4,random_state=100)"
   ]
  },
  {
   "cell_type": "markdown",
   "id": "0ef6fc54",
   "metadata": {},
   "source": [
    "#### Clearing Missing Values"
   ]
  },
  {
   "cell_type": "code",
   "execution_count": 73,
   "id": "98e3e452",
   "metadata": {},
   "outputs": [
    {
     "name": "stdout",
     "output_type": "stream",
     "text": [
      "(1344, 2)\n",
      "Series([], dtype: int64)\n"
     ]
    }
   ],
   "source": [
    "# Shape of training data (num_rows, num_columns)\n",
    "print(X_train.shape)\n",
    "\n",
    "# Number of missing values in each column of training data\n",
    "missing_val_count_by_column = (X_train.isnull().sum())\n",
    "print(missing_val_count_by_column[missing_val_count_by_column > 0])"
   ]
  },
  {
   "cell_type": "code",
   "execution_count": 57,
   "id": "4d9af123",
   "metadata": {},
   "outputs": [
    {
     "name": "stdout",
     "output_type": "stream",
     "text": [
      "['Income']\n"
     ]
    }
   ],
   "source": [
    "col_with_missing_values = [col for col in X_train.columns\n",
    "                             if X_train[col].isnull().any()]\n",
    "print(col_with_missing_values)"
   ]
  },
  {
   "cell_type": "markdown",
   "id": "abdaff9d",
   "metadata": {},
   "source": [
    "Now we will clear the missing values in Income column and change them with the mean value of that column."
   ]
  },
  {
   "cell_type": "code",
   "execution_count": 61,
   "id": "a01cacd1",
   "metadata": {},
   "outputs": [],
   "source": [
    "from sklearn.impute import SimpleImputer\n",
    "# Define imputer\n",
    "imp = SimpleImputer(missing_values=np.nan, strategy='mean')\n",
    "\n",
    "# Perform the imputation on 'your_column'\n",
    "df['Income'] = imp.fit_transform(df['Income'].values.reshape(-1, 1))"
   ]
  },
  {
   "cell_type": "code",
   "execution_count": 66,
   "id": "8f7eb27c",
   "metadata": {},
   "outputs": [
    {
     "name": "stdout",
     "output_type": "stream",
     "text": [
      "(1344, 3)\n",
      "Series([], dtype: int64)\n"
     ]
    }
   ],
   "source": [
    "# Shape of training data (num_rows, num_columns)\n",
    "print(X_train.shape)\n",
    "\n",
    "# Number of missing values in each column of training data\n",
    "missing_val_count_by_column = (X_train.isnull().sum())\n",
    "print(missing_val_count_by_column[missing_val_count_by_column > 0])"
   ]
  },
  {
   "cell_type": "code",
   "execution_count": 67,
   "id": "cbec8673",
   "metadata": {},
   "outputs": [
    {
     "name": "stdout",
     "output_type": "stream",
     "text": [
      "[]\n"
     ]
    }
   ],
   "source": [
    "col_with_missing_values = [col for col in X_train.columns\n",
    "                             if X_train[col].isnull().any()]\n",
    "print(col_with_missing_values)"
   ]
  },
  {
   "cell_type": "markdown",
   "id": "6f4a1d08",
   "metadata": {},
   "source": [
    "#### Initial Results"
   ]
  },
  {
   "cell_type": "markdown",
   "id": "a7d3a11d",
   "metadata": {},
   "source": [
    "We will use Linear Regression as our model."
   ]
  },
  {
   "cell_type": "code",
   "execution_count": 99,
   "id": "a8a80ff3",
   "metadata": {},
   "outputs": [
    {
     "data": {
      "text/html": [
       "<style>#sk-container-id-6 {color: black;background-color: white;}#sk-container-id-6 pre{padding: 0;}#sk-container-id-6 div.sk-toggleable {background-color: white;}#sk-container-id-6 label.sk-toggleable__label {cursor: pointer;display: block;width: 100%;margin-bottom: 0;padding: 0.3em;box-sizing: border-box;text-align: center;}#sk-container-id-6 label.sk-toggleable__label-arrow:before {content: \"▸\";float: left;margin-right: 0.25em;color: #696969;}#sk-container-id-6 label.sk-toggleable__label-arrow:hover:before {color: black;}#sk-container-id-6 div.sk-estimator:hover label.sk-toggleable__label-arrow:before {color: black;}#sk-container-id-6 div.sk-toggleable__content {max-height: 0;max-width: 0;overflow: hidden;text-align: left;background-color: #f0f8ff;}#sk-container-id-6 div.sk-toggleable__content pre {margin: 0.2em;color: black;border-radius: 0.25em;background-color: #f0f8ff;}#sk-container-id-6 input.sk-toggleable__control:checked~div.sk-toggleable__content {max-height: 200px;max-width: 100%;overflow: auto;}#sk-container-id-6 input.sk-toggleable__control:checked~label.sk-toggleable__label-arrow:before {content: \"▾\";}#sk-container-id-6 div.sk-estimator input.sk-toggleable__control:checked~label.sk-toggleable__label {background-color: #d4ebff;}#sk-container-id-6 div.sk-label input.sk-toggleable__control:checked~label.sk-toggleable__label {background-color: #d4ebff;}#sk-container-id-6 input.sk-hidden--visually {border: 0;clip: rect(1px 1px 1px 1px);clip: rect(1px, 1px, 1px, 1px);height: 1px;margin: -1px;overflow: hidden;padding: 0;position: absolute;width: 1px;}#sk-container-id-6 div.sk-estimator {font-family: monospace;background-color: #f0f8ff;border: 1px dotted black;border-radius: 0.25em;box-sizing: border-box;margin-bottom: 0.5em;}#sk-container-id-6 div.sk-estimator:hover {background-color: #d4ebff;}#sk-container-id-6 div.sk-parallel-item::after {content: \"\";width: 100%;border-bottom: 1px solid gray;flex-grow: 1;}#sk-container-id-6 div.sk-label:hover label.sk-toggleable__label {background-color: #d4ebff;}#sk-container-id-6 div.sk-serial::before {content: \"\";position: absolute;border-left: 1px solid gray;box-sizing: border-box;top: 0;bottom: 0;left: 50%;z-index: 0;}#sk-container-id-6 div.sk-serial {display: flex;flex-direction: column;align-items: center;background-color: white;padding-right: 0.2em;padding-left: 0.2em;position: relative;}#sk-container-id-6 div.sk-item {position: relative;z-index: 1;}#sk-container-id-6 div.sk-parallel {display: flex;align-items: stretch;justify-content: center;background-color: white;position: relative;}#sk-container-id-6 div.sk-item::before, #sk-container-id-6 div.sk-parallel-item::before {content: \"\";position: absolute;border-left: 1px solid gray;box-sizing: border-box;top: 0;bottom: 0;left: 50%;z-index: -1;}#sk-container-id-6 div.sk-parallel-item {display: flex;flex-direction: column;z-index: 1;position: relative;background-color: white;}#sk-container-id-6 div.sk-parallel-item:first-child::after {align-self: flex-end;width: 50%;}#sk-container-id-6 div.sk-parallel-item:last-child::after {align-self: flex-start;width: 50%;}#sk-container-id-6 div.sk-parallel-item:only-child::after {width: 0;}#sk-container-id-6 div.sk-dashed-wrapped {border: 1px dashed gray;margin: 0 0.4em 0.5em 0.4em;box-sizing: border-box;padding-bottom: 0.4em;background-color: white;}#sk-container-id-6 div.sk-label label {font-family: monospace;font-weight: bold;display: inline-block;line-height: 1.2em;}#sk-container-id-6 div.sk-label-container {text-align: center;}#sk-container-id-6 div.sk-container {/* jupyter's `normalize.less` sets `[hidden] { display: none; }` but bootstrap.min.css set `[hidden] { display: none !important; }` so we also need the `!important` here to be able to override the default hidden behavior on the sphinx rendered scikit-learn.org. See: https://github.com/scikit-learn/scikit-learn/issues/21755 */display: inline-block !important;position: relative;}#sk-container-id-6 div.sk-text-repr-fallback {display: none;}</style><div id=\"sk-container-id-6\" class=\"sk-top-container\"><div class=\"sk-text-repr-fallback\"><pre>LinearRegression()</pre><b>In a Jupyter environment, please rerun this cell to show the HTML representation or trust the notebook. <br />On GitHub, the HTML representation is unable to render, please try loading this page with nbviewer.org.</b></div><div class=\"sk-container\" hidden><div class=\"sk-item\"><div class=\"sk-estimator sk-toggleable\"><input class=\"sk-toggleable__control sk-hidden--visually\" id=\"sk-estimator-id-6\" type=\"checkbox\" checked><label for=\"sk-estimator-id-6\" class=\"sk-toggleable__label sk-toggleable__label-arrow\">LinearRegression</label><div class=\"sk-toggleable__content\"><pre>LinearRegression()</pre></div></div></div></div></div>"
      ],
      "text/plain": [
       "LinearRegression()"
      ]
     },
     "execution_count": 99,
     "metadata": {},
     "output_type": "execute_result"
    }
   ],
   "source": [
    "reg = linear_model.LinearRegression()\n",
    "reg.fit(X_train, y_train)"
   ]
  },
  {
   "cell_type": "code",
   "execution_count": null,
   "id": "26a550fa",
   "metadata": {},
   "outputs": [],
   "source": [
    "y_pred = reg.predict(X_test)\n",
    "#print(X_test) #test dataset\n",
    "#print(y_pred) #predicted values"
   ]
  },
  {
   "cell_type": "code",
   "execution_count": 101,
   "id": "4b5b32e3",
   "metadata": {},
   "outputs": [
    {
     "name": "stdout",
     "output_type": "stream",
     "text": [
      "Mean Squared Error: 173144.62135251952\n",
      "Mean Absolute Error: 334.2922614900868\n",
      "R2 Score: 0.5298679337476737\n"
     ]
    }
   ],
   "source": [
    "from sklearn.metrics import mean_squared_error, mean_absolute_error, r2_score\n",
    "\n",
    "mse = mean_squared_error(y_test, y_pred)\n",
    "mae = mean_absolute_error(y_test, y_pred)\n",
    "r2 = r2_score(y_test, y_pred)\n",
    "\n",
    "print(f\"Mean Squared Error: {mse}\")\n",
    "print(f\"Mean Absolute Error: {mae}\")\n",
    "print(f\"R2 Score: {r2}\")"
   ]
  },
  {
   "cell_type": "markdown",
   "id": "8fd98f1e",
   "metadata": {},
   "source": [
    "This time, let's add two other columns, Age and Total Children, in addition to our predictor data. We expect to see improvement by metrics."
   ]
  },
  {
   "cell_type": "code",
   "execution_count": 104,
   "id": "8f2cedeb",
   "metadata": {},
   "outputs": [],
   "source": [
    "X= df[['Age', 'Income', 'Total Children']]  # the top 3 features\n",
    "Y= df[['TotalAmountSpent']]  # the target output\n",
    "\n",
    "X_train,X_test,y_train,y_test=train_test_split(X,Y,test_size=0.4,random_state=100)\n",
    "\n",
    "reg = linear_model.LinearRegression()\n",
    "reg.fit(X_train, y_train)\n",
    "\n",
    "y_pred = reg.predict(X_test)"
   ]
  },
  {
   "cell_type": "code",
   "execution_count": 105,
   "id": "fe2550b6",
   "metadata": {},
   "outputs": [
    {
     "name": "stdout",
     "output_type": "stream",
     "text": [
      "Mean Squared Error: 143310.0214468185\n",
      "Mean Absolute Error: 290.41154651505883\n",
      "R2 Score: 0.6108765263907081\n"
     ]
    }
   ],
   "source": [
    "from sklearn.metrics import mean_squared_error, mean_absolute_error, r2_score\n",
    "\n",
    "mse = mean_squared_error(y_test, y_pred)\n",
    "mae = mean_absolute_error(y_test, y_pred)\n",
    "r2 = r2_score(y_test, y_pred)\n",
    "\n",
    "print(f\"Mean Squared Error: {mse}\")\n",
    "print(f\"Mean Absolute Error: {mae}\")\n",
    "print(f\"R2 Score: {r2}\")"
   ]
  },
  {
   "cell_type": "markdown",
   "id": "3188a05b",
   "metadata": {},
   "source": [
    "#### Choosing The Best Prediction Model"
   ]
  },
  {
   "cell_type": "markdown",
   "id": "f2bdb9fe",
   "metadata": {},
   "source": [
    "Let us compare the Linear Regression, XGBRegressor and Random Forest Regressor."
   ]
  },
  {
   "cell_type": "code",
   "execution_count": 110,
   "id": "24a7593e",
   "metadata": {},
   "outputs": [],
   "source": [
    "X= df[['Age', 'Income', 'Total Children']]  # the top 3 features\n",
    "Y= df[['TotalAmountSpent']]  # the target output\n",
    "\n",
    "X_train,X_test,y_train,y_test=train_test_split(X,Y,test_size=0.4,random_state=100)\n",
    "\n",
    "import xgboost as xgb\n",
    "model = xgb.XGBRegressor()\n",
    "model.fit(X_train, y_train)\n",
    "\n",
    "y_pred = model.predict(X_test)"
   ]
  },
  {
   "cell_type": "code",
   "execution_count": 111,
   "id": "e2408d77",
   "metadata": {},
   "outputs": [
    {
     "name": "stdout",
     "output_type": "stream",
     "text": [
      "Mean Squared Error: 109895.90541920858\n",
      "Mean Absolute Error: 220.23594329532767\n",
      "R2 Score: 0.7016044236094837\n"
     ]
    }
   ],
   "source": [
    "from sklearn.metrics import mean_squared_error, mean_absolute_error, r2_score\n",
    "\n",
    "mse = mean_squared_error(y_test, y_pred)\n",
    "mae = mean_absolute_error(y_test, y_pred)\n",
    "r2 = r2_score(y_test, y_pred)\n",
    "\n",
    "print(f\"Mean Squared Error: {mse}\")\n",
    "print(f\"Mean Absolute Error: {mae}\")\n",
    "print(f\"R2 Score: {r2}\")"
   ]
  },
  {
   "cell_type": "code",
   "execution_count": 120,
   "id": "fc71e41f",
   "metadata": {},
   "outputs": [
    {
     "name": "stderr",
     "output_type": "stream",
     "text": [
      "/var/folders/x3/pkxr6fs91b9dt9nf608j0q100000gn/T/ipykernel_1234/902836371.py:8: DataConversionWarning: A column-vector y was passed when a 1d array was expected. Please change the shape of y to (n_samples,), for example using ravel().\n",
      "  model.fit(X_train, y_train)\n"
     ]
    }
   ],
   "source": [
    "X= df[['Age', 'Income', 'Total Children']]  # the top 3 features\n",
    "Y= df[['TotalAmountSpent']]  # the target output\n",
    "\n",
    "X_train,X_test,y_train,y_test=train_test_split(X,Y,test_size=0.4,random_state=100)\n",
    "\n",
    "from sklearn.ensemble import RandomForestRegressor\n",
    "model = RandomForestRegressor()\n",
    "model.fit(X_train, y_train)\n",
    "\n",
    "y_pred = model.predict(X_test)"
   ]
  },
  {
   "cell_type": "code",
   "execution_count": 121,
   "id": "ddea71d6",
   "metadata": {},
   "outputs": [
    {
     "name": "stdout",
     "output_type": "stream",
     "text": [
      "Mean Squared Error: 101143.82509943577\n",
      "Mean Absolute Error: 211.44957589285715\n",
      "R2 Score: 0.7253685669747216\n"
     ]
    }
   ],
   "source": [
    "from sklearn.metrics import mean_squared_error, mean_absolute_error, r2_score\n",
    "\n",
    "mse = mean_squared_error(y_test, y_pred)\n",
    "mae = mean_absolute_error(y_test, y_pred)\n",
    "r2 = r2_score(y_test, y_pred)\n",
    "\n",
    "print(f\"Mean Squared Error: {mse}\")\n",
    "print(f\"Mean Absolute Error: {mae}\")\n",
    "print(f\"R2 Score: {r2}\")"
   ]
  },
  {
   "cell_type": "markdown",
   "id": "fde64de5",
   "metadata": {},
   "source": [
    "As we can see, it gives best results with Random Forest Regressor. "
   ]
  },
  {
   "cell_type": "code",
   "execution_count": 147,
   "id": "1c265808",
   "metadata": {},
   "outputs": [],
   "source": [
    "X= df[['Education', 'Marital_Status', 'Recency_Score']]  # the top 3 features\n",
    "Y= df[['TotalAmountSpent']]  # the target output\n",
    "\n",
    "X_train,X_test,y_train,y_test=train_test_split(X,Y,test_size=0.4,random_state=100)\n",
    "\n",
    "from sklearn.ensemble import RandomForestRegressor\n",
    "model = xgb.XGBRegressor()\n",
    "model.fit(X_train, y_train)\n",
    "\n",
    "y_pred = model.predict(X_test)"
   ]
  },
  {
   "cell_type": "code",
   "execution_count": 148,
   "id": "2f60790a",
   "metadata": {},
   "outputs": [
    {
     "name": "stdout",
     "output_type": "stream",
     "text": [
      "Mean Squared Error: 456032.08141301235\n",
      "Mean Absolute Error: 535.6420144853847\n",
      "R2 Score: -0.23824409350576015\n"
     ]
    }
   ],
   "source": [
    "from sklearn.metrics import mean_squared_error, mean_absolute_error, r2_score\n",
    "\n",
    "mse = mean_squared_error(y_test, y_pred)\n",
    "mae = mean_absolute_error(y_test, y_pred)\n",
    "r2 = r2_score(y_test, y_pred)\n",
    "\n",
    "print(f\"Mean Squared Error: {mse}\")\n",
    "print(f\"Mean Absolute Error: {mae}\")\n",
    "print(f\"R2 Score: {r2}\")"
   ]
  },
  {
   "cell_type": "markdown",
   "id": "23797359",
   "metadata": {},
   "source": [
    "By using statistical hypothesis tests, we have concluded that the categories such as Marital_Status, Recency_Score and Education are not related with our outcome data, namely TotalAmountSpent. Below, we made predictions based on these three categories. To sum up, the columns ('Age', 'Income', 'Total Children') that statistical hypothesis tests provides gives better results than the other columns ('Education', 'Marital Status', 'Recency Score') which were not related with the outcome data (TotalAmountSpent)."
   ]
  },
  {
   "cell_type": "markdown",
   "id": "437a7f16",
   "metadata": {},
   "source": [
    "#### References:\n",
    "\n",
    "https://www.scribbr.com/statistics/statistical-tests/\n",
    "\n",
    "https://machinelearningmastery.com/statistical-hypothesis-tests-in-python-cheat-sheet/\n",
    "\n",
    "https://github.com/ibrahim-ogunbiyi/Customer-Segmentation/blob/main/.ipynb_checkpoints/Customer%20Segmentation-checkpoint.ipynb\n",
    "\n",
    "https://www.kaggle.com/datasets/imakash3011/customer-personality-analysis"
   ]
  },
  {
   "cell_type": "code",
   "execution_count": null,
   "id": "3dd94bf0",
   "metadata": {},
   "outputs": [],
   "source": []
  }
 ],
 "metadata": {
  "kernelspec": {
   "display_name": "Python 3 (ipykernel)",
   "language": "python",
   "name": "python3"
  },
  "language_info": {
   "codemirror_mode": {
    "name": "ipython",
    "version": 3
   },
   "file_extension": ".py",
   "mimetype": "text/x-python",
   "name": "python",
   "nbconvert_exporter": "python",
   "pygments_lexer": "ipython3",
   "version": "3.10.9"
  }
 },
 "nbformat": 4,
 "nbformat_minor": 5
}
